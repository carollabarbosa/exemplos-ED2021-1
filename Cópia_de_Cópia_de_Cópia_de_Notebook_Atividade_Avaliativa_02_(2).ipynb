{
  "nbformat": 4,
  "nbformat_minor": 0,
  "metadata": {
    "colab": {
      "name": "Cópia de Cópia_de_Cópia_de_Notebook_Atividade_Avaliativa_02 (2).ipynb",
      "provenance": [],
      "collapsed_sections": [],
      "toc_visible": true,
      "include_colab_link": true
    },
    "kernelspec": {
      "name": "python3",
      "display_name": "Python 3"
    },
    "language_info": {
      "name": "python"
    }
  },
  "cells": [
    {
      "cell_type": "markdown",
      "metadata": {
        "id": "view-in-github",
        "colab_type": "text"
      },
      "source": [
        "<a href=\"https://colab.research.google.com/github/carollabarbosa/exemplos-ED2021-1/blob/main/C%C3%B3pia_de_C%C3%B3pia_de_C%C3%B3pia_de_Notebook_Atividade_Avaliativa_02_(2).ipynb\" target=\"_parent\"><img src=\"https://colab.research.google.com/assets/colab-badge.svg\" alt=\"Open In Colab\"/></a>"
      ]
    },
    {
      "cell_type": "markdown",
      "metadata": {
        "id": "rRCp_LRSnNbA"
      },
      "source": [
        "## Atividade Avaliativa 02:\n",
        "### Aluno: Caroline\n",
        "### Pólo: lrv\n",
        "### Link de compartilhamento: https://colab.research.google.com/drive/1XUyFRdHVPVHLdAbiEO6D9roC6V3jdVac?usp=sharing"
      ]
    },
    {
      "cell_type": "markdown",
      "metadata": {
        "id": "WZmpdfd-1iq_"
      },
      "source": [
        "### TAD - Pessoa"
      ]
    },
    {
      "cell_type": "code",
      "metadata": {
        "id": "XnDSN67U1h79"
      },
      "source": [
        "# Classe Pessoa\n",
        "class Pessoa:     \n",
        "  def __init__(self):\n",
        "    self.nome = None\n",
        "    self.idade = None\n",
        "\n",
        "  # Preenche dados da pessoa\n",
        "  def preencher(self):\n",
        "    self.nome = input('Nome:')\n",
        "    self.idade = int(input('Idade:'))    "
      ],
      "execution_count": null,
      "outputs": []
    },
    {
      "cell_type": "markdown",
      "metadata": {
        "id": "Fd7yW8bFppyA"
      },
      "source": [
        "### 01 - Crie o TAD de Fila,  utilizando uma Lista Simples Encadeada.\n",
        "\n",
        "a) Deve Possuir os seguintes atributos: (1 pontos)\n",
        "* Dado\n",
        "* Proximo\n",
        "* Primeiro\n",
        "* Ultimo\n",
        "\n",
        "b) Deve oferecer as seguintes operações: (1 ponto)\n",
        "* Verificar se esta vazia\n",
        "* Enfileirar\n",
        "* Desenfileirar\n",
        "* Imprimir todos os itens\n",
        "\n",
        "Referência: \n",
        "\n",
        "GeeksforGeeks - https://www.geeksforgeeks.org/queue-linked-list-implementation/?ref=rp"
      ]
    },
    {
      "cell_type": "code",
      "metadata": {
        "id": "CvNB-56knTK5"
      },
      "source": [
        "# Protótipo Fila \n",
        "\n",
        "# Classe Nó\n",
        "class No:\n",
        "  \n",
        "  # Inicia o Nó\n",
        "  def __init__(self, dado):\n",
        "    self.dado = dado\n",
        "    self.proximo = None\n",
        "  \n",
        "# Classe Fila\n",
        "class Fila:\n",
        "      \n",
        "  # Inicia a fila\n",
        "  def __init__(self):\n",
        "    pass\n",
        "  \n",
        "  # Verificar se esta vazia\n",
        "  def esta_vazia(self):\n",
        "    pass\n",
        "    \n",
        "  # Enfileirar\n",
        "  def enfileirar(self, item):\n",
        "    pass\n",
        "\n",
        "  # Desenfileirar\n",
        "  def desenfileirar(self):\n",
        "    pass "
      ],
      "execution_count": null,
      "outputs": []
    },
    {
      "cell_type": "code",
      "metadata": {
        "id": "LSaDkMJh1YOM"
      },
      "source": [
        "#define MaxTam 1000\n",
        "typedef int Apontador; \n",
        "\n",
        "typedef struct {\n",
        "    /* dados */\n",
        "} TipoItem;\n",
        "\n",
        "typedef struct{\n",
        "    TipoItem Item[MaxTam];\n",
        "    Apontador Primeiro, Ultimo;\n",
        "\n",
        "}  TipoLista;\n",
        "\n",
        "void Insere(TipoLista *lista, TipoItem dado, int posicao) {\n",
        "    int i;\n",
        "\n",
        "    if (i = lista->Ultimo; i >= MaxTam) {\n",
        "       printf(\"Lista está cheia\\n\"); \n",
        "}\n",
        "    else {\n",
        "        for (i = lista ->Ultimo; i>= posicao; i--)\n",
        "          lista->Item[i] = lista->Item[i-1];\n",
        "        lista->Item[posição] = dado;\n",
        "    }\n",
        "  }"
      ],
      "execution_count": null,
      "outputs": []
    },
    {
      "cell_type": "markdown",
      "metadata": {
        "id": "JZLZ7Ffu4EGn"
      },
      "source": [
        "Exercicio **B**"
      ]
    },
    {
      "cell_type": "code",
      "metadata": {
        "id": "ewbYyIWB4IB2"
      },
      "source": [
        "void InverteFila(TipoFila *fila) {\n",
        "    TipoPilha *pilha;\n",
        "\n",
        "    pilha =(TipoPilha *) malloc(sizeof(TipoPilha));\n",
        "    FPVazia(pilha);\n",
        "\n",
        "    while (Vazia(fila) == 0)\n",
        "      Empilha(Desenfileira(fila), pilha);\n",
        "    while ( Vazia(fila) == 0)\n",
        "      Enfileira(Desempilha(pilha), fila);\n",
        "}"
      ],
      "execution_count": null,
      "outputs": []
    },
    {
      "cell_type": "markdown",
      "metadata": {
        "id": "yRQMFBS8pf29"
      },
      "source": [
        "### 2 - Escreva um código utilizando a TAD - Lista Simples Encadeada, que: \n",
        "\n",
        "a) Inicie uma Fila; (1 ponto)\n",
        "\n",
        "b) Permita que o usuário insira quantas pessoas ele quiser, ao final imprima todos os nomes; (2 ponto)\n",
        "\n",
        "c) Permita que o usuário remova quantas pessoas ele puder, ao final imprima todos os nomes; (2 ponto)\n",
        "\n",
        "d) Imprima o número de pessoas na Fista; (1 ponto)\n",
        "\n",
        "f) Imprima a média de idade das pessoas; (1 ponto)\n",
        "\n",
        "g) Busque uma pessoa, se encontar imprima o nome e a idade, se não encontrar imprima pessoa não encontrada. (1 ponto)"
      ]
    },
    {
      "cell_type": "markdown",
      "metadata": {
        "id": "u9sH6P1_4CRf"
      },
      "source": [
        ""
      ]
    },
    {
      "cell_type": "code",
      "metadata": {
        "id": "oQU9TU41dZCg"
      },
      "source": [
        ""
      ],
      "execution_count": null,
      "outputs": []
    },
    {
      "cell_type": "code",
      "metadata": {
        "id": "WM9GJNSic9nY"
      },
      "source": [
        "// Java program for linked-list implementation of queue\n",
        "\n",
        "// A linked list (LL) node to store a queue entry\n",
        "class QNode {\n",
        "\tint key;\n",
        "\tQNode next;\n",
        "\n",
        "\t// constructor to create a new linked list node\n",
        "\tpublic QNode(int key)\n",
        "\t{\n",
        "\t\tthis.key = key;\n",
        "\t\tthis.next = null;\n",
        "\t}\n",
        "}\n",
        "\n",
        "// A class to represent a queue\n",
        "// The queue, front stores the front node of LL and rear stores the\n",
        "// last node of LL\n",
        "class Queue {\n",
        "\tQNode front, rear;\n",
        "\n",
        "\tpublic Queue()\n",
        "\t{\n",
        "\t\tthis.front = this.rear = null;\n",
        "\t}\n",
        "\n",
        "\t// Method to add an key to the queue.\n",
        "\tvoid enqueue(int key)\n",
        "\t{\n",
        "\n",
        "\t\t// Create a new LL node\n",
        "\t\tQNode temp = new QNode(key);\n",
        "\n",
        "\t\t// If queue is empty, then new node is front and rear both\n",
        "\t\tif (this.rear == null) {\n",
        "\t\t\tthis.front = this.rear = temp;\n",
        "\t\t\treturn;\n",
        "\t\t}\n",
        "\n",
        "\t\t// Add the new node at the end of queue and change rear\n",
        "\t\tthis.rear.next = temp;\n",
        "\t\tthis.rear = temp;\n",
        "\t}\n",
        "\n",
        "\t// Method to remove an key from queue.\n",
        "\tvoid dequeue()\n",
        "\t{\n",
        "\t\t// If queue is empty, return NULL.\n",
        "\t\tif (this.front == null)\n",
        "\t\t\treturn;\n",
        "\n",
        "\t\t// Store previous front and move front one node ahead\n",
        "\t\tQNode temp = this.front;\n",
        "\t\tthis.front = this.front.next;\n",
        "\n",
        "\t\t// If front becomes NULL, then change rear also as NULL\n",
        "\t\tif (this.front == null)\n",
        "\t\t\tthis.rear = null;\n",
        "\t}\n",
        "}\n",
        "\n",
        "// Driver class\n",
        "public class Test {\n",
        "\tpublic static void main(String[] args)\n",
        "\t{\n",
        "\t\tQueue q = new Queue();\n",
        "\t\tq.enqueue(1);\n",
        "\t\tq.enqueue(2);\n",
        "\t\tq.dequeue();\n",
        "\t\tq.dequeue();\n",
        "\t\tq.enqueue(3);\n",
        "\t\tq.enqueue(4);\n",
        "\t\tq.enqueue(5);\n",
        "\t\tq.dequeue();\n",
        "\t\tSystem.out.println(\"Frente da Fila : \" + q.front.key);\n",
        "\t\tSystem.out.println(\"Final da Fila : \" + q.rear.key);\n",
        "\t}\n",
        "}\n",
        "// This code is contributed by Gaurav Miglani\n"
      ],
      "execution_count": null,
      "outputs": []
    },
    {
      "cell_type": "code",
      "metadata": {
        "colab": {
          "base_uri": "https://localhost:8080/"
        },
        "id": "qWIpPn1Gdf6T",
        "outputId": "a17993ab-dd9c-4dd2-fe4e-0c0c45b0c84a"
      },
      "source": [
        "!java --version"
      ],
      "execution_count": null,
      "outputs": [
        {
          "output_type": "stream",
          "text": [
            "openjdk 11.0.11 2021-04-20\n",
            "OpenJDK Runtime Environment (build 11.0.11+9-Ubuntu-0ubuntu2.18.04)\n",
            "OpenJDK 64-Bit Server VM (build 11.0.11+9-Ubuntu-0ubuntu2.18.04, mixed mode, sharing)\n"
          ],
          "name": "stdout"
        }
      ]
    },
    {
      "cell_type": "code",
      "metadata": {
        "id": "-Q8_BbQwfPxR"
      },
      "source": [
        "!javac /content/Test.java"
      ],
      "execution_count": null,
      "outputs": []
    },
    {
      "cell_type": "code",
      "metadata": {
        "colab": {
          "base_uri": "https://localhost:8080/"
        },
        "id": "5K6fu9dSfhK5",
        "outputId": "8e13f0e9-3159-41cc-df2b-63c2e1397a4f"
      },
      "source": [
        "!java Test"
      ],
      "execution_count": null,
      "outputs": [
        {
          "output_type": "stream",
          "text": [
            "Frente da Fila : 4\n",
            "Final da Fila : 5\n"
          ],
          "name": "stdout"
        }
      ]
    },
    {
      "cell_type": "markdown",
      "metadata": {
        "id": "rYkpVu3w94M6"
      },
      "source": [
        "**ATIVIDADE**"
      ]
    },
    {
      "cell_type": "markdown",
      "metadata": {
        "id": "n4sbnOSm_k9n"
      },
      "source": [
        "Tentativa 01"
      ]
    },
    {
      "cell_type": "code",
      "metadata": {
        "id": "WvZ-TYe7KM_5"
      },
      "source": [
        "# Cria uma lista vazia.\n",
        "lista = []\n",
        "\n",
        "# Adiciona elementos no final da lista.\n",
        "lista.append(\"julio mendes\")\n",
        "lista.append(\"carlos leao\")\n",
        "lista.append(\"james oliveira\")\n",
        "lista.append(\"maria julia\")\n",
        "lista.append(\"helena maria\")\n",
        "lista.append(\"george silva\")\n",
        "\n",
        "print(lista)\n",
        "['julio mendes', 'carlos leao', 'james oliveira', 'maria julia', 'helena maria', 'george silva']\n",
        "\n",
        "# A expressão lista_vazia = list() possui o mesmo efeito.\n",
        "lista_vazia = []\n",
        "print(\"Lista vazia: \", lista_vazia)\n",
        "print(\"Tipo de uma lista: \", type(lista_vazia))\n",
        "\n",
        "lista_inteiros = [10, 20, 30, 40]\n",
        "print(\"Lista de inteiros: \", lista_inteiros)\n",
        "\n",
        "lista_tipos_diferentes = [\"George\", \"Silva\", 30]\n",
        "print(\"Lista de elementos com tipos diferentes: \", lista_tipos_diferentes)\n",
        "\n",
        "lista = ['julio mendes']\n",
        "print(\"Lista original: \", lista)\n",
        "\n",
        "alunos = ['helena maria', 'george silva', 'julio mendes']\n",
        "alunos.append(['carlos leoa'])\n",
        "print(alunos)\n",
        "\n",
        "lista = ['carla', 'pedro eduardo']\n",
        "lista.insert(1, \"carla\")\n",
        "lista.insert(4, \"pedro\")\n",
        "\n",
        "print(lista)\n",
        "del lista[1]\n",
        "print(\"Removendo um elemento: \", lista)\n",
        "def conta_elementos_unicos(numeros):\n",
        "    elementos_unicos = set(numeros)\n",
        "    return len(elementos_unicos)\n",
        "\n",
        "print(conta_elementos_unicos([1, 2, 3, 4]))"
      ],
      "execution_count": null,
      "outputs": []
    },
    {
      "cell_type": "markdown",
      "metadata": {
        "id": "RHAyxnjRQyGz"
      },
      "source": [
        "tentativa **02**"
      ]
    },
    {
      "cell_type": "code",
      "metadata": {
        "colab": {
          "base_uri": "https://localhost:8080/"
        },
        "id": "dJ7fwCQBQ0jV",
        "outputId": "67fc1df7-56b9-4208-8ff0-f05d8f7f4f93"
      },
      "source": [
        "animals = [\"gato eduardo 20 anos\", \"raposa luis 10 anos\", \"cachorro gilberto 5 anos\", \"girafa leonardo 5 anos\"];\n",
        "animals[0]   # 'gato eduardo 20 anos'\n",
        "animals[1]   # 'raposa luis 10 anos'\n",
        "animals[2]   # 'cachorro gilberto 5 anos'\n",
        "animals[3]   # 'girafa leonardo 5 anos'\n",
        "\n",
        "animals = [\"gato eduardo 20 anos\", \"raposa luis 10 anos\", \"cachorro gilberto 5 anos\", \"girafa leonardo 5 anos\"]\n",
        "print(animals.index(\"gato eduardo 20 anos\")) # 1\n",
        "\n",
        "animals = [\"gato eduardo 20 anos\", \"raposa luis 10 anos\", \"cachorro gilberto 5 anos\", \"girafa leonardo 5 anos\"]\n",
        "animals.insert(1, \"leao marinho leoncio 2 anos\")\n",
        "print(animals) \n",
        "\n",
        "animals = [\"gato eduardo 20 anos\", \"raposa luis 10 anos\", \"cachorro gilberto 5 anos\", \"girafa leonardo 5 anos\"]\n",
        "animals.remove(\"raposa luis 10 anos\")\n",
        "print(animals)\n",
        "\n",
        "animals = [\"gato eduardo 20 anos\", \"raposa luis 10 anos\", \"cachorro gilberto 5 anos\", \"girafa leonardo 5 anos\"]\n",
        "animals.pop(0)\n",
        "print(animals)\n",
        "\n",
        "lista = [[\"gato eduardo 20 anos\", \"raposa luis 10 anos\", \"cachorro gilberto 5 anos\", \"girafa leonardo 5 anos\"]]\n",
        "print(lista)\n",
        "\n",
        "procurar = input(\"Digite quem você procura: \")\n",
        "\n",
        "for i in lista:\n",
        "    animals = lista.index(i) # Primeiro elemento\n",
        "    for b in i:\n",
        "        if b == procurar:\n",
        "            animals = lista[animals].index(b) # Segundo elemento que está dentro do primeiro elemento, pouco confuso, mas é isso aí\n",
        "            print(\"Quem você procura está na posição: lista[{}][{}]\".format(animals,animals))\n",
        "            break\n",
        "\n",
        "print(\"Quem você procura:\",lista[animals][animals])\n",
        "\n",
        "result = busca(\" \")\n",
        "print(result)\n",
        "\n"
      ],
      "execution_count": null,
      "outputs": [
        {
          "output_type": "stream",
          "text": [
            "0\n",
            "['gato eduardo 20 anos', 'leao marinho leoncio 2 anos', 'raposa luis 10 anos', 'cachorro gilberto 5 anos', 'girafa leonardo 5 anos']\n",
            "['gato eduardo 20 anos', 'cachorro gilberto 5 anos', 'girafa leonardo 5 anos']\n",
            "['raposa luis 10 anos', 'cachorro gilberto 5 anos', 'girafa leonardo 5 anos']\n",
            "[['gato eduardo 20 anos', 'raposa luis 10 anos', 'cachorro gilberto 5 anos', 'girafa leonardo 5 anos']]\n"
          ],
          "name": "stdout"
        }
      ]
    },
    {
      "cell_type": "markdown",
      "metadata": {
        "id": "jDkESMz2uFz-"
      },
      "source": [
        "tentativa 03 - **lista**"
      ]
    },
    {
      "cell_type": "code",
      "metadata": {
        "colab": {
          "base_uri": "https://localhost:8080/"
        },
        "id": "-W3sOlRLvxm8",
        "outputId": "97c3b64e-b17d-4df8-e356-54452948978f"
      },
      "source": [
        "# makes a list\n",
        "names = [\"Alice Silva\", \"Carlos Jardim\",\"Lucas Manoel\"]\n",
        "idade = [\"35\", \"45\",\"18\"]\n",
        "profissao =[\"professora\",\"mecanico\",\"estudante\"]\n",
        "msg=\"Candidatos\"\n",
        "print(msg)\n",
        "\n",
        "first_element = names[0]\n",
        "first_element = names[-1]\n",
        "second_element = idade[2]\n",
        "\n",
        "for name in names:\n",
        "    print(name)\n",
        "\n",
        "msg=\"Profissao\"\n",
        "print(msg)\n",
        "\n",
        "for profissao in profissao:\n",
        "    print(profissao)\n",
        "\n",
        "msg=\"Idade\"\n",
        "print(msg)\n",
        "\n",
        "for idade in idade:\n",
        "    print(idade)\n",
        "\n",
        "media_das_idades = 98 /3\n",
        "print(media_das_idades)\n",
        "\n",
        "new_list =[]\n",
        "new_list.append(\"hello\")\n",
        "new_list.append(names[0])\n",
        "\n",
        "squares =[]\n",
        "for x in range(1,11):\n",
        "    squares.append(x**2)\n",
        "qubes =[x**3 for x in range(1,11)]\n",
        "some_list = [\"element_0\",\"element_1\",\"element_2\",\"element_3\"]\n",
        "sliced = some_list[:2]\n",
        "\n",
        "list_copy= sliced[:]\n",
        "\n",
        "dimensions=(1920,1080)\n",
        "\n",
        "#remove \"lucas manoel\"\n",
        "\n",
        "print(names)\n",
        "del names[1]\n",
        "print(\"Removendo um elemento: \", names)\n",
        "def conta_elementos_unicos(names):\n",
        "    elementos_unicos = set(names)\n",
        "    return len(elementos_unicos)\n",
        "\n",
        "for names in ['Carlos Jardim, mecanico de 45 anos']:\n",
        "    print(\" o candidato eleito é\", names)\n",
        "\n",
        "procurar = input(\"Digite quem você procura: \")\n",
        "\n",
        "for i in names:\n",
        "    names = names.index(i) # Primeiro elemento\n",
        "    for b in i:\n",
        "        if b == procurar:\n",
        "            names = list[names].index(b) # Segundo elemento que está dentro do primeiro elemento, pouco confuso, mas é isso aí\n",
        "            print(\"Quem você procura está na posição: Carlos Jardim[{}][{}]\".format(names,names))\n",
        "            break\n",
        "\n",
        "print(\"Quem você procura:\",list[3][3])\n",
        "\n",
        "result = procurar(\" \")\n",
        "print(result)\n",
        "def first_true(default=False, pred=None):\n",
        "    result = procurar(\" \")\n",
        "    print(result)\n",
        "\n"
      ],
      "execution_count": null,
      "outputs": [
        {
          "output_type": "stream",
          "text": [
            "Candidatos\n",
            "Alice Silva\n",
            "Carlos Jardim\n",
            "Lucas Manoel\n",
            "Profissao\n",
            "professora\n",
            "mecanico\n",
            "estudante\n",
            "Idade\n",
            "35\n",
            "45\n",
            "18\n",
            "32.666666666666664\n",
            "['Alice Silva', 'Carlos Jardim', 'Lucas Manoel']\n",
            "Removendo um elemento:  ['Alice Silva', 'Lucas Manoel']\n",
            " o candidato eleito é Carlos Jardim, mecanico de 45 anos\n"
          ],
          "name": "stdout"
        }
      ]
    },
    {
      "cell_type": "markdown",
      "metadata": {
        "id": "WYz-ZC9NVaAs"
      },
      "source": [
        "**teste**"
      ]
    },
    {
      "cell_type": "code",
      "metadata": {
        "id": "jE4qbesX_PN3"
      },
      "source": [
        "//* --------- dlista.h ----------- */\n",
        " typedef struct dl_elementoLista {\n",
        "           \n",
        "  char *dado;   \n",
        "  struct dl_elementoLista *anterior;   \n",
        "  struct dl_elementoLista *seguinte;   \n",
        "} dl_elemento;   \n",
        "\n",
        "typedef struct dl_ListaDetectada{   \n",
        "  dl_elemento *início;   \n",
        "  dl_elemento *fim;   \n",
        "  int tamanho;   \n",
        "} dl_Lista;   \n",
        "\n",
        "/* inicialização da lista */   \n",
        "void inicialização (dl_Lista * lista);   \n",
        "dl_elemento *aloc (dl_elemento * novo_elemento);   \n",
        "\n",
        "/* INSERÇÃO */   \n",
        "int ins_em_uma_lista_vazia (dl_Lista * lista, char *dado);   \n",
        "int ins_início_lista (dl_Lista * lista, char *dado);   \n",
        "int ins_fim_lista (dl_Lista * lista, char *dado);   \n",
        "int ins_depois (dl_Lista * lista, char *dado, int pos);   \n",
        "int ins_antes (dl_Lista * lista, char *dado, int pos);   \n",
        "\n",
        "\n",
        "/* REMOÇÃO */   \n",
        "int REMOV(dl_Lista *lista, int pos);   \n",
        "void exibe (dl_Lista * lista);   \n",
        "\n",
        "/**************************/   \n",
        "void exibe_inv (dl_Lista * lista);   \n",
        "void destruir (dl_Lista * lista);   \n",
        "/* -------- FIM lista.h --------- */  "
      ],
      "execution_count": null,
      "outputs": []
    },
    {
      "cell_type": "markdown",
      "metadata": {
        "id": "aGeRAvjw_rLv"
      },
      "source": [
        "Tentativa 02 com base no exemplo "
      ]
    },
    {
      "cell_type": "code",
      "metadata": {
        "id": "eGm2OjkztpOx"
      },
      "source": [
        " // Java program for linked-list implementation of queue \n",
        "\n",
        "// A linked list (LL) node to store a queue entry\n",
        "class QNode {\n",
        "\tint key;\n",
        "\tQNode next;\n",
        "\n",
        "\t// constructor to create a new linked list node\n",
        "\tpublic QNode(int key)\n",
        "\t{\n",
        "\t\tthis.key = key;\n",
        "\t\tthis.next = null;\n",
        "\t}\n",
        "}\n",
        "\n",
        "// A class to represent a queue\n",
        "// The queue, front stores the front node of LL and rear stores the\n",
        "// last node of LL\n",
        "class Queue {\n",
        "\tQNode front, rear;\n",
        "\n",
        "\tpublic Queue()\n",
        "\t{\n",
        "\t\tthis.front = this.rear = null;\n",
        "\t}\n",
        "\n",
        "\t// Method to add an key to the queue.\n",
        "\tvoid enqueue(int key)\n",
        "\t{\n",
        "\n",
        "\t\t// Create a new LL node\n",
        "\t\tQNode temp = new QNode(key);\n",
        "\n",
        "\t\t// If queue is empty, then new node is front and rear both\n",
        "\t\tif (this.rear == null) {\n",
        "\t\t\tthis.front = this.rear = temp;\n",
        "\t\t\treturn;\n",
        "\t\t}\n",
        "\n",
        "\t\t// Add the new node at the end of queue and change rear\n",
        "\t\tthis.rear.next = temp;\n",
        "\t\tthis.rear = temp;\n",
        "\t}\n",
        "\n",
        "\t// Method to remove an key from queue.\n",
        "\tvoid dequeue()\n",
        "\t{\n",
        "\t\t// If queue is empty, return NULL.\n",
        "\t\tif (this.front == null)\n",
        "\t\t\treturn;\n",
        "\n",
        "\t\t// Store previous front and move front one node ahead\n",
        "\t\tQNode temp = this.front;\n",
        "\t\tthis.front = this.front.next;\n",
        "\n",
        "\t\t// If front becomes NULL, then change rear also as NULL\n",
        "\t\tif (this.front == null)\n",
        "\t\t\tthis.rear = null;\n",
        "\t}\n",
        "}\n",
        "\n",
        "// Driver class\n",
        "public class Test {\n",
        "\tpublic static void main(String[] args)\n",
        "\t{\n",
        "\t\tQueue q = new Queue();\n",
        "\t\tq.enqueue(\"joão\");\n",
        "\t\tq.enqueue(\"maria\");\n",
        "\t\tq.dequeue();\n",
        "\t\tq.dequeue();\n",
        "\t\tq.enqueue(\"carlos\");\n",
        "\t\tq.enqueue(\"barto\")\n",
        "\t\tq.enqueue(\"arthur\");\n",
        "\t\tq.dequeue();\n",
        "\t\tSystem.out.println(\"Frente da Fila : \" + q.front.key);\n",
        "\t\tSystem.out.println(\"Final da Fila : \" + q.rear.key);\n",
        "\t}\n",
        "}"
      ],
      "execution_count": null,
      "outputs": []
    },
    {
      "cell_type": "code",
      "metadata": {
        "colab": {
          "base_uri": "https://localhost:8080/"
        },
        "id": "KLoXhYbVwJYT",
        "outputId": "6f7b0967-905b-4ff7-9635-fc065c0106fa"
      },
      "source": [
        "!java --version"
      ],
      "execution_count": null,
      "outputs": [
        {
          "output_type": "stream",
          "text": [
            "openjdk 11.0.11 2021-04-20\n",
            "OpenJDK Runtime Environment (build 11.0.11+9-Ubuntu-0ubuntu2.18.04)\n",
            "OpenJDK 64-Bit Server VM (build 11.0.11+9-Ubuntu-0ubuntu2.18.04, mixed mode, sharing)\n"
          ],
          "name": "stdout"
        }
      ]
    },
    {
      "cell_type": "code",
      "metadata": {
        "id": "c_IFr7RnwNL0"
      },
      "source": [
        "!javac /content/Test.java"
      ],
      "execution_count": null,
      "outputs": []
    },
    {
      "cell_type": "code",
      "metadata": {
        "colab": {
          "base_uri": "https://localhost:8080/"
        },
        "id": "GFEK_Qocw4sc",
        "outputId": "e6da37b2-ae93-4c47-94bb-a992984bb71f"
      },
      "source": [
        "!java Test"
      ],
      "execution_count": null,
      "outputs": [
        {
          "output_type": "stream",
          "text": [
            "Frente da Fila : 4\n",
            "Final da Fila : 5\n"
          ],
          "name": "stdout"
        }
      ]
    },
    {
      "cell_type": "markdown",
      "metadata": {
        "id": "HZhvXilj9Uza"
      },
      "source": [
        "**teste para estudo **"
      ]
    }
  ]
}