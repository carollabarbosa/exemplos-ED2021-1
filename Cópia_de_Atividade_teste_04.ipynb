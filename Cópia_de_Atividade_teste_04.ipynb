{
  "nbformat": 4,
  "nbformat_minor": 0,
  "metadata": {
    "colab": {
      "name": "Cópia_de_Atividade_teste_04.ipynb",
      "provenance": [],
      "collapsed_sections": [],
      "toc_visible": true,
      "include_colab_link": true
    },
    "kernelspec": {
      "name": "python3",
      "display_name": "Python 3"
    },
    "language_info": {
      "name": "python"
    }
  },
  "cells": [
    {
      "cell_type": "markdown",
      "metadata": {
        "id": "view-in-github",
        "colab_type": "text"
      },
      "source": [
        "<a href=\"https://colab.research.google.com/github/carollabarbosa/exemplos-ED2021-1/blob/main/C%C3%B3pia_de_Atividade_teste_04.ipynb\" target=\"_parent\"><img src=\"https://colab.research.google.com/assets/colab-badge.svg\" alt=\"Open In Colab\"/></a>"
      ]
    },
    {
      "cell_type": "markdown",
      "metadata": {
        "id": "Si3BU3EQXwds"
      },
      "source": [
        "Aluno: Caroline \n",
        "\n",
        "Pólo: Lucas do Rio Verde \n",
        "\n",
        "Link Compartilhamento: https://colab.research.google.com/drive/1O0vZF_hz2hemf379uaISGhvdG9uxGSDW?usp=sharing"
      ]
    },
    {
      "cell_type": "markdown",
      "metadata": {
        "id": "yuBQ_8LgVkIn"
      },
      "source": [
        "## Exercícios"
      ]
    },
    {
      "cell_type": "markdown",
      "metadata": {
        "id": "IHsQFqRjTZ4H"
      },
      "source": [
        "1 ) Uma revendedora de peças automotivas possui 3 vendedores de balcão. Ela deseja registrar o total das vendas de cada vendedor ao longo dos 5 dias da semana. \n",
        "\n",
        "Para tanto crie um registro com os seguintes campos:\n",
        "*   dia_da_semana\n",
        "*   vendas_vendedor_1\n",
        "*   vendas_vendedor_2\n",
        "*   vendas_vendedor_3\n",
        "*   total_das_vendas\n",
        "\n",
        "Implemente um TAD para resolver o problema acima, com as operações de inclusão e exibição de dados conforme a seguir:\n",
        "\n",
        "1. O valor total vendido por vendedor\n",
        "2. O valor total vendido por dia\n",
        "3. O valor total vendido na semana\n",
        "4. O Vendedor que mais vendeu\n",
        "5. O Vendedor que menos vendeu\n",
        "6. A media diária de vendas\n"
      ]
    },
    {
      "cell_type": "code",
      "metadata": {
        "colab": {
          "base_uri": "https://localhost:8080/"
        },
        "id": "vOmL9CAno_bf",
        "outputId": "d83c8a5b-fa6c-44c5-f97d-a8380f0ff09e"
      },
      "source": [
        "from prettytable import PrettyTable\n",
        "\n",
        "myTable = PrettyTable([\"Vendedor\", \"cliente\" , \"produto\" , \"valor\"])\n",
        "\n",
        "myTable.add_row([\"João\",\"Tito\",\"Carro\",\"30000\"])\n",
        "myTable.add_row([\"Maria\",\"Carlos\",\"Computador\",\"2000\"])\n",
        "myTable.add_row([\"Judas\",\"Onofre\",\"Panela\",\"30\"])\n",
        "print(myTable)\n",
        "\n",
        "myTable = PrettyTable([\"Vendedor\",\"Venda_dia\", \"Venda_semana\" , \"Venda_mês\", \"valor\"])\n",
        "\n",
        "myTable.add_row([\"João\",\"2 carros\",\"8 carros\",\"12 carros\",\"130000\"])\n",
        "myTable.add_row([\"Maria\",\"3 Computadores\",\" 5Computador\",\"8 computadores\",\"12000\"])\n",
        "myTable.add_row([\"Judas\",\"5 jogos de panelas\",\"25 jogos de panelas\",\"30 jogos de panelas\",\"1500\"])\n",
        "print(myTable)\n",
        "\n",
        "\n",
        "\n",
        "\n"
      ],
      "execution_count": null,
      "outputs": [
        {
          "output_type": "stream",
          "text": [
            "+----------+---------+------------+-------+\n",
            "| Vendedor | cliente |  produto   | valor |\n",
            "+----------+---------+------------+-------+\n",
            "|   João   |   Tito  |   Carro    | 30000 |\n",
            "|  Maria   |  Carlos | Computador |  2000 |\n",
            "|  Judas   |  Onofre |   Panela   |   30  |\n",
            "+----------+---------+------------+-------+\n",
            "+----------+--------------------+---------------------+---------------------+--------+\n",
            "| Vendedor |     Venda_dia      |     Venda_semana    |      Venda_mês      | valor  |\n",
            "+----------+--------------------+---------------------+---------------------+--------+\n",
            "|   João   |      2 carros      |       8 carros      |      12 carros      | 130000 |\n",
            "|  Maria   |   3 Computadores   |      5Computador    |    8 computadores   | 12000  |\n",
            "|  Judas   | 5 jogos de panelas | 25 jogos de panelas | 30 jogos de panelas |  1500  |\n",
            "+----------+--------------------+---------------------+---------------------+--------+\n"
          ],
          "name": "stdout"
        }
      ]
    },
    {
      "cell_type": "markdown",
      "metadata": {
        "id": "ujxNrrc-UynM"
      },
      "source": [
        "2) Uma estação meteorológica realiza diariamente 3 medidas de temperatura de uma determinada cidade ao longo dos 30 dias do mês. Para tanto crie um registro com as seguintes informações:\n",
        "\n",
        "*   dia_da_leitura\n",
        "*   leitura_1\n",
        "*   leitura_2\n",
        "*   leitura_3\n",
        "\n",
        "Implemente um TAD para resolver o problema acima, com as operações de inclusão e exibição de dados conforme a seguir:\n",
        "\n",
        "1. A media diária das temperaturas lidas \n",
        "2. A media mensal de cada uma das 3 leituras\n",
        "3. Encontre o dia mais frio\n",
        "4. Encontre o dia mais quente"
      ]
    },
    {
      "cell_type": "code",
      "metadata": {
        "id": "UYWiGZjzVgIX"
      },
      "source": [
        "#coding= latin-1 \n",
        "from math import*\n",
        "from string import* \n",
        "  \n",
        "letemperatura=[] \n",
        "dia=[] \n",
        "leleitura1=[]\n",
        "leleitura2=[]\n",
        "leleitura3=[]\n",
        "lemedia_dia=[] \n",
        "lemedia_dia = ('letemperatura1,letemperatura2,letemperatura3')/3\n",
        "  \n",
        "temperatura=0\n",
        "dia=0 \n",
        "leitura1=0\n",
        "leitura2=0\n",
        "leitura3=0 \n",
        "media=0 \n",
        "salvar_media=0 \n",
        "ini=0\n",
        " \n",
        "#A função que ira ser usada \n",
        "def menu (): \n",
        "    print ('Menu diario estação meterologica:') \n",
        "    print ('   1 - le temperatura') \n",
        "    print ('   2 - Remover temperatura') \n",
        "    print ('   3 - le leitura 1') \n",
        "    print ('   4 - le leitura 2') \n",
        "    print ('   5 - Listar temperatura') \n",
        "    print ('   6 - Verificar media temperatura')\n",
        "    print ('   7 - Ver temperatura')\n",
        "    print ('   9 - Sair') \n",
        "    opt = input('Digite a opçao desejada: ') \n",
        "    return opt \n",
        "  \n",
        "def adicionar_temperatura ():\n",
        "    temperatura = str(input(\"Digite a temperatura:\"))\n",
        "    temperatura=temperatura.upper()\n",
        "    if temperatura in temperatura:\n",
        "        print('le temperatura')\n",
        "    else:\n",
        "        letemperatura1.append(temperatura)\n",
        "        dia=float(input(\"Digite a leitura 1:\"))\n",
        "        dia.append(dia)\n",
        "        print('leitura registrada') \n",
        "    pass \n",
        "  \n",
        "def remover_temperatura1 (): \n",
        "    temperatura=str(input(\"Digite a temperatura 1:\"))\n",
        "    temperatura=temperatura.upper()\n",
        "    if temperatura in letemperatura:\n",
        "        letemperatura.remove(temperatura) \n",
        "        print('temperatura1 Removida')\n",
        "    else:\n",
        "        print('Essa temperatura Não Está registrada') \n",
        "    pass \n",
        "  \n",
        "def lancar_temperatura ():\n",
        "    temperatura=str(input(\"Digite a temperatura:\"))\n",
        "    temperatura=temperatura.upper()\n",
        "    if  temperatura in letemperatura:\n",
        "        temperatura1=input(\"Digite a temperatura 1 :\")\n",
        "        temperatura2=input(\"Digite a temperatura 2 :\")\n",
        "        temperatura3=input(\"Digite a temperatura 3 :\") \n",
        "        letemperatura.append(temperatura1)\n",
        "        letemperatura.append(temperatura2)\n",
        "        letemperatura.append(temperatura3)\n",
        "    else:\n",
        "        print('Essa temperatura não foi registrada')\n",
        "    pass \n",
        "  \n",
        "def lancar_leitura ():\n",
        "    temperatura=str(input(\"Digite a leitura da temperatura 1:\"))\n",
        "    temperatura=temperatura.upper()\n",
        "    if  temperatura in letemperatura:\n",
        "        media=float(input(\"Digite as leituras das temperatura(em dia):\")) \n",
        "        dias.append(media)\n",
        "    else:\n",
        "        print('Essa temperatura Não Está registrada')\n",
        "    pass \n",
        "  \n",
        "def listar_temperatura2 (): \n",
        "    print('temperatura 2 ', letemperatura) \n",
        "    pass \n",
        "  \n",
        "def verificar_situacao ():\n",
        "    temperatura3 = str(input(\"Digite a temperatura 3: \"))\n",
        "     \n",
        "    pass \n",
        "\n",
        "def verificar_dia_frio (): \n",
        "    temperatura = str(input(\"Digite o dia frio: \"))\n",
        "     \n",
        "    pass \n",
        "def verificar_dia_quente (): \n",
        "    temperatura = str(input(\"Digite o dia quente: \"))\n",
        "     \n",
        "    pass \n",
        "  \n",
        "def le_media (): \n",
        "    print(lemedia) \n",
        "    pass \n",
        "  \n",
        "def salva_diario (): \n",
        "    salvar=input(\"Deseja salvar o diario:\")\n",
        "    if salvar==sim: \n",
        "        print(\"Diario Salvo\") \n",
        "    else:\n",
        "        salvar==não \n",
        "        print(\"Diario não Salvo\")\n",
        "    pass \n",
        "  \n",
        "le_diario() \n",
        "opcao = menu() \n",
        "while opcao != '9': \n",
        "    if opcao == '1': \n",
        "        adicionar_leitura() \n",
        "    elif opcao == '2':  \n",
        "        remover_leitura() \n",
        "    elif opcao == '3':  \n",
        "        lancar_temperatura() \n",
        "    elif opcao == '4':  \n",
        "        lancar_media() \n",
        "    elif opcao == '5':  \n",
        "        listar_dia() \n",
        "    elif opcao == '6':  \n",
        "        verificar_situacao()\n",
        "    elif opcao == '7':\n",
        "        le_diario()\n",
        " \n",
        "  \n",
        "    opcao = menu() \n",
        "  \n",
        "salva_diario()"
      ],
      "execution_count": null,
      "outputs": []
    },
    {
      "cell_type": "markdown",
      "metadata": {
        "id": "nuyH-1Vf7xNE"
      },
      "source": [
        "**OPÇÃO 02**"
      ]
    },
    {
      "cell_type": "code",
      "metadata": {
        "id": "Av3OhEQk8OzQ"
      },
      "source": [
        "\n",
        "from math import*\n",
        "from string import* \n",
        "  \n",
        "leitura1=srt(input('temperatura1:'))\n",
        " dia_da_semana=str(input('dia da semana:'))\n",
        "leitura2=srt(input('temperatura2:'))\n",
        "  dia_da_semana=str(input('dia da semana:'))\n",
        "leitura3=srt(input('temperatura3:'))\n",
        "  dia_da_semana=str(input('dia da semana:'))\n",
        "\n",
        "print(f'n\\{temperatura1},{dia_da_semana}, leitura1')\n",
        "\n",
        "def verificar_dia_frio (): \n",
        "     temperatura = str(input(\"Digite o dia frio: \"))\n",
        "\n",
        "def verificar_dia_quente (): \n",
        "     temperatura = str(input(\"Digite o dia quente: \"))\n",
        "\n",
        "def le_media (): \n",
        "     print(lemedia)    \n",
        "  \n",
        "def salva_diario (): \n",
        "    salvar=input(\"Deseja salvar o diario:\")\n",
        "    if salvar==sim: \n",
        "        print(\"Diario Salvo\") \n",
        "    else:\n",
        "        salvar==não \n",
        "        print(\"Diario não Salvo\")\n",
        "\n",
        "\n"
      ],
      "execution_count": null,
      "outputs": []
    },
    {
      "cell_type": "markdown",
      "metadata": {
        "id": "-1kZ1D9GpZxQ"
      },
      "source": [
        "**Opção 3**"
      ]
    },
    {
      "cell_type": "code",
      "metadata": {
        "colab": {
          "base_uri": "https://localhost:8080/"
        },
        "id": "7RnMcWBNpb5V",
        "outputId": "c8e1bcec-7634-4acd-f32a-032ea14aa2a5"
      },
      "source": [
        "from prettytable import PrettyTable\n",
        "\n",
        "myTable = PrettyTable([\"Temperatura\", \"leitura\" , \"dia\" , \"hora\",\"media diaria\",\"previsão\"])\n",
        "\n",
        "myTable.add_row([\"38\",\"01\",\"05-03-2021\",\"08:00\", \"28\",\"sol\"])\n",
        "myTable.add_row([\"38\",\"02\",\"05-03-2021\",\"12:00\", \"28\",\"sol\"])\n",
        "myTable.add_row([\"38\",\"03\",\"05-03-2021\",\"17:00\", \"28\",\"sol\"])\n",
        "myTable.add_row([\"12\",\"01\",\"06-03-2021\",\"08:00\",\"16\",\"nublado\"])\n",
        "myTable.add_row([\"12\",\"02\",\"06-03-2021\",\"12:00\",\"16\",\"nublado\"])\n",
        "myTable.add_row([\"12\",\"03\",\"06-03-2021\",\"17:00\",\"16\",\"nublado\"])\n",
        "myTable.add_row([\"11\",\"01\",\"07-03-2021\",\"08:00\",\"08\",\"chuvoso\"])\n",
        "myTable.add_row([\"11\",\"02\",\"07-03-2021\",\"12:00\",\"08\",\"chuvoso\"])\n",
        "myTable.add_row([\"11\",\"03\",\"07-03-2021\",\"17:00\",\"08\",\"chuvoso\"])\n",
        "print(myTable)\n",
        "\n"
      ],
      "execution_count": null,
      "outputs": [
        {
          "output_type": "stream",
          "text": [
            "+-------------+---------+------------+-------+--------------+----------+\n",
            "| Temperatura | leitura |    dia     |  hora | media diaria | previsão |\n",
            "+-------------+---------+------------+-------+--------------+----------+\n",
            "|      38     |    01   | 05-03-2021 | 08:00 |      28      |   sol    |\n",
            "|      38     |    02   | 05-03-2021 | 12:00 |      28      |   sol    |\n",
            "|      38     |    03   | 05-03-2021 | 17:00 |      28      |   sol    |\n",
            "|      12     |    01   | 06-03-2021 | 08:00 |      16      | nublado  |\n",
            "|      12     |    02   | 06-03-2021 | 12:00 |      16      | nublado  |\n",
            "|      12     |    03   | 06-03-2021 | 17:00 |      16      | nublado  |\n",
            "|      11     |    01   | 07-03-2021 | 08:00 |      08      | chuvoso  |\n",
            "|      11     |    02   | 07-03-2021 | 12:00 |      08      | chuvoso  |\n",
            "|      11     |    03   | 07-03-2021 | 17:00 |      08      | chuvoso  |\n",
            "+-------------+---------+------------+-------+--------------+----------+\n"
          ],
          "name": "stdout"
        }
      ]
    }
  ]
}